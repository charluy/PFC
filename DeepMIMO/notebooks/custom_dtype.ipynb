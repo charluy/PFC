{
 "cells": [
  {
   "cell_type": "code",
   "execution_count": 2,
   "id": "42f09146",
   "metadata": {},
   "outputs": [],
   "source": [
    "import numpy as np"
   ]
  },
  {
   "cell_type": "code",
   "execution_count": 31,
   "id": "db803680",
   "metadata": {},
   "outputs": [
    {
     "name": "stdout",
     "output_type": "stream",
     "text": [
      "uint16\n",
      "float64\n",
      "float64\n",
      "Matriz: \n",
      "[[[(0, 0., 0.) (0, 0., 0.) (0, 0., 0.) (0, 0., 0.)]\n",
      "  [(0, 0., 0.) (0, 0., 0.) (0, 0., 0.) (0, 0., 0.)]\n",
      "  [(0, 0., 0.) (0, 0., 0.) (0, 0., 0.) (0, 0., 0.)]]\n",
      "\n",
      " [[(0, 0., 0.) (0, 0., 0.) (0, 0., 0.) (0, 0., 0.)]\n",
      "  [(0, 0., 0.) (0, 0., 0.) (0, 0., 0.) (0, 0., 0.)]\n",
      "  [(0, 0., 0.) (0, 0., 0.) (0, 0., 0.) (0, 0., 0.)]]]\n",
      "\n",
      "\n",
      "Matriz: \n",
      "[[[(0, 0.1, 0.1) (0, 1.1, 1.1) (0, 2.1, 2.1) (0, 3.1, 3.1)]\n",
      "  [(1, 0.1, 0.1) (1, 1.1, 1.1) (1, 2.1, 2.1) (1, 3.1, 3.1)]\n",
      "  [(2, 0.1, 0.1) (2, 1.1, 1.1) (2, 2.1, 2.1) (2, 3.1, 3.1)]]\n",
      "\n",
      " [[(1, 0.1, 0.1) (1, 1.1, 1.1) (1, 2.1, 2.1) (1, 3.1, 3.1)]\n",
      "  [(2, 0.1, 0.1) (2, 1.1, 1.1) (2, 2.1, 2.1) (2, 3.1, 3.1)]\n",
      "  [(3, 0.1, 0.1) (3, 1.1, 1.1) (3, 2.1, 2.1) (3, 3.1, 3.1)]]]\n",
      "\n",
      "\n"
     ]
    }
   ],
   "source": [
    "'''\n",
    "    El nuevo tipo de datos tiene que contener los campos: Rango (int), SNR (float) y Angulo (float).\n",
    "    Referencia: https://www.geeksforgeeks.org/data-type-object-dtype-numpy-python/\n",
    "'''\n",
    "\n",
    "CANT_BS = 2\n",
    "CANT_UE = 3\n",
    "CANT_PRB = 4\n",
    "MAT_SHAPE = (CANT_BS, CANT_UE, CANT_PRB)\n",
    "\n",
    "custom_data = np.dtype([\n",
    "    ('rango', np.uint16),\n",
    "    ('snr', np.float64),\n",
    "    ('angulo', np.float64),\n",
    "])\n",
    "\n",
    "print(custom_data['rango'])\n",
    "print(custom_data['snr'])\n",
    "print(custom_data['angulo'])\n",
    "\n",
    "arreglo = np.zeros(shape=MAT_SHAPE, dtype=custom_data)\n",
    "\n",
    "print(f'Matriz: \\n{arreglo}\\n\\n')\n",
    "\n",
    "for bs in range(0,CANT_BS):\n",
    "    for ue in range(0,CANT_UE):\n",
    "        for prb in range(0,CANT_PRB):\n",
    "            arreglo[bs,ue,prb] = (bs+ue, prb+0.1, prb+0.1)\n",
    "\n",
    "print(f'Matriz: \\n{arreglo}\\n\\n')\n"
   ]
  },
  {
   "cell_type": "code",
   "execution_count": 32,
   "id": "a605b4f3",
   "metadata": {},
   "outputs": [],
   "source": [
    "np.save(\"estado_canal\", arreglo)"
   ]
  },
  {
   "cell_type": "code",
   "execution_count": 33,
   "id": "38ccdd5d",
   "metadata": {},
   "outputs": [
    {
     "name": "stdout",
     "output_type": "stream",
     "text": [
      "Matriz cargada: \n",
      "[[[(0, 0.1, 0.1) (0, 1.1, 1.1) (0, 2.1, 2.1) (0, 3.1, 3.1)]\n",
      "  [(1, 0.1, 0.1) (1, 1.1, 1.1) (1, 2.1, 2.1) (1, 3.1, 3.1)]\n",
      "  [(2, 0.1, 0.1) (2, 1.1, 1.1) (2, 2.1, 2.1) (2, 3.1, 3.1)]]\n",
      "\n",
      " [[(1, 0.1, 0.1) (1, 1.1, 1.1) (1, 2.1, 2.1) (1, 3.1, 3.1)]\n",
      "  [(2, 0.1, 0.1) (2, 1.1, 1.1) (2, 2.1, 2.1) (2, 3.1, 3.1)]\n",
      "  [(3, 0.1, 0.1) (3, 1.1, 1.1) (3, 2.1, 2.1) (3, 3.1, 3.1)]]]\n",
      "\n",
      "\n",
      "(1, 0.1, 0.1)\n",
      "1\n",
      "0.1\n",
      "0.1\n"
     ]
    }
   ],
   "source": [
    "estado_canal = np.load(\"estado_canal.npy\")\n",
    "\n",
    "print(f'Matriz cargada: \\n{estado_canal}\\n\\n')\n",
    "\n",
    "print(estado_canal[1,0,0])\n",
    "print(estado_canal[1,0,0]['rango'])\n",
    "print(estado_canal[1,0,0]['snr'])\n",
    "print(estado_canal[1,0,0]['angulo'])\n"
   ]
  }
 ],
 "metadata": {
  "kernelspec": {
   "display_name": "Python 3 (ipykernel)",
   "language": "python",
   "name": "python3"
  },
  "language_info": {
   "codemirror_mode": {
    "name": "ipython",
    "version": 3
   },
   "file_extension": ".py",
   "mimetype": "text/x-python",
   "name": "python",
   "nbconvert_exporter": "python",
   "pygments_lexer": "ipython3",
   "version": "3.9.12"
  }
 },
 "nbformat": 4,
 "nbformat_minor": 5
}
