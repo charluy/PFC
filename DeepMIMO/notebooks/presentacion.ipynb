{
 "cells": [
  {
   "cell_type": "code",
   "execution_count": 1,
   "id": "1dc12b9e",
   "metadata": {},
   "outputs": [
    {
     "name": "stdout",
     "output_type": "stream",
     "text": [
      "/home/charly/anaconda3/envs/pfc/bin/python\n"
     ]
    }
   ],
   "source": [
    "# Referencias:\n",
    "#   - https://deepmimo.net/versions/v2-python/\n",
    "#   - https://docs.conda.io/projects/conda/en/latest/user-guide/tasks/manage-environments.html\n",
    "#   - https://medium.com/@nrk25693/how-to-add-your-conda-environment-to-your-jupyter-notebook-in-just-4-steps-abeab8b8d084\n",
    "\n",
    "import DeepMIMO\n",
    "import sys\n",
    "print(sys.executable)\n"
   ]
  },
  {
   "cell_type": "markdown",
   "id": "2befc3a9",
   "metadata": {},
   "source": [
    "### Características del escenario: (https://deepmimo.net/scenarios/i2-scenario/)\n",
    "\n",
    "\n",
    "- An indoor room scenario with dimensions 7 m x 13 m x 3 m\n",
    "- A line-of-sight (LOS) blockage between the base station and the users\n",
    "- One access point inside the room at 2 m height\n",
    "- More than **140 thousand** candidate users\n",
    "- Dataset is available at operating frequency 28 GHz\n"
   ]
  },
  {
   "cell_type": "code",
   "execution_count": 2,
   "id": "fec9aa80",
   "metadata": {},
   "outputs": [
    {
     "name": "stdout",
     "output_type": "stream",
     "text": [
      "{   'OFDM': {   'RX_filter': 0,\n",
      "                'bandwidth': 0.05,\n",
      "                'pulse_shaping': 2,\n",
      "                'rolloff_factor': 0.25,\n",
      "                'subcarriers': 512,\n",
      "                'subcarriers_limit': 512,\n",
      "                'subcarriers_sampling': 1},\n",
      "    'OFDM_channels': 1,\n",
      "    'activate_OFDM': 1,\n",
      "    'active_BS': array([1]),\n",
      "    'bs_antenna': {   'radiation_pattern': 'isotropic',\n",
      "                      'shape': array([1, 1, 1]),\n",
      "                      'spacing': 0.5},\n",
      "    'dataset_folder': '../scenarios',\n",
      "    'dynamic_settings': {'first_scene': 1, 'last_scene': 1},\n",
      "    'enable_BS2BS': 1,\n",
      "    'num_paths': 5,\n",
      "    'row_subsampling': 1,\n",
      "    'scenario': 'I2_28B',\n",
      "    'ue_antenna': {   'radiation_pattern': 'isotropic',\n",
      "                      'shape': array([1, 1, 1]),\n",
      "                      'spacing': 0.5},\n",
      "    'user_row_first': 1,\n",
      "    'user_row_last': 1,\n",
      "    'user_subsampling': 1}\n",
      "\n",
      "Basestation 1\n",
      "\n",
      "UE-BS Channels\n"
     ]
    },
    {
     "name": "stderr",
     "output_type": "stream",
     "text": [
      "Reading ray-tracing: 100%|████████████████████████████████████████████████████████████████████████████████████████████████████████████████████████████████████████████| 201/201 [00:00<00:00, 15823.11it/s]\n",
      "Generating channels: 100%|█████████████████████████████████████████████████████████████████████████████████████████████████████████████████████████████████████████████| 201/201 [00:00<00:00, 2627.09it/s]\n"
     ]
    },
    {
     "name": "stdout",
     "output_type": "stream",
     "text": [
      "\n",
      "BS-BS Channels\n"
     ]
    },
    {
     "name": "stderr",
     "output_type": "stream",
     "text": [
      "Reading ray-tracing: 100%|█████████████████████████████████████████████████████████████████████████████████████████████████████████████████████████████████████████████████| 1/1 [00:00<00:00, 3251.40it/s]\n",
      "Generating channels: 100%|██████████████████████████████████████████████████████████████████████████████████████████████████████████████████████████████████████████████████| 1/1 [00:00<00:00, 555.91it/s]\n"
     ]
    }
   ],
   "source": [
    "import pprint\n",
    "import numpy as np\n",
    "\n",
    "# Selección de parámetros:\n",
    "\n",
    "# Load the default parameters\n",
    "parameters = DeepMIMO.default_params()\n",
    "\n",
    "# Set scenario name\n",
    "parameters['scenario'] = 'I2_28B' # Escenario descargado\n",
    "\n",
    "# Set the main folder containing extracted scenarios\n",
    "parameters['dataset_folder'] = r'../scenarios'\n",
    "\n",
    "# Elegimos las BS que queremos utilizar del escenario:\n",
    "parameters['active_BS'] = np.array([1]) \n",
    "\n",
    "# Dynamic scenarios - Determines the range of dynamic scenario scenes to be loaded\n",
    "# parameters['dynamic_settings']['first_scene'] = 1\n",
    "# parameters['dynamic_settings']['last_scene'] = 4\n",
    "\n",
    "# Activate frequency domain (FD) channel generation for OFDM systems:\n",
    "parameters['activate_OFDM'] = 1\n",
    "\n",
    "# To sample all 512 subcarriers without spacing:\n",
    "parameters['OFDM']['subcarriers_limit'] = 512\n",
    "parameters['OFDM']['subcarriers_sampling'] = 1\n",
    "\n",
    "# Ponemos una antena en TX y una también en RX\n",
    "parameters['bs_antenna']['shape'] = np.array([1,1,1])\n",
    "parameters['ue_antenna']['shape'] = np.array([1,1,1])\n",
    "\n",
    "# For raised cosine pulse shape with a roll-off factor 0.5\n",
    "# raised cosine pulse shaping and matched filter with a roll-off factor defined by rolloff_factor float in [0, 1]\n",
    "parameters['OFDM']['pulse_shaping'] = 2\n",
    "parameters['OFDM']['rolloff_factor'] = 0.25\n",
    "\n",
    "pp = pprint.PrettyPrinter(indent=4)\n",
    "pp.pprint(parameters)\n",
    "\n",
    "# Generate data\n",
    "dataset = DeepMIMO.generate_data(parameters)"
   ]
  },
  {
   "cell_type": "code",
   "execution_count": 3,
   "id": "10feaff6",
   "metadata": {},
   "outputs": [
    {
     "data": {
      "image/png": "[encoded data removed]",
      "text/plain": [
       "<Figure size 432x288 with 1 Axes>"
      ]
     },
     "metadata": {
      "needs_background": "light"
     },
     "output_type": "display_data"
    },
    {
     "name": "stdout",
     "output_type": "stream",
     "text": [
      "SNR en dBm:\n",
      "[[57.38035905]\n",
      " [58.85894801]\n",
      " [68.67264095]\n",
      " [52.84721287]\n",
      " [52.57355758]\n",
      " [57.00265591]\n",
      " [47.92660185]\n",
      " [41.72256097]\n",
      " [46.62929844]\n",
      " [78.51694375]]\n"
     ]
    }
   ],
   "source": [
    "import matplotlib.pyplot as plt\n",
    "\n",
    "# Cálculo del SNR:\n",
    "\n",
    "bs = 0 # única bs disponible\n",
    "RX_ant = 0 # única antena RX disponible\n",
    "TX_ant = 0 # única antena TX disponible\n",
    "SNR = np.zeros(shape = (10, 1))\n",
    "\n",
    "for ue in range (0, 10): # Elegimos 10 usuarios de los 140k usuarios disponibles\n",
    "    \n",
    "    # Calculamos el SNR de la portadora a partir de la ganancia en cada frecuencia.\n",
    "\n",
    "    # Channel magnitud response por portadora OFDM:\n",
    "    info = np.absolute(dataset[bs]['user']['channel'][ue][RX_ant][TX_ant])\n",
    "\n",
    "    # Plot Channel magnitud response por sub-portadora OFDM:\n",
    "    plt.plot(info)\n",
    "\n",
    "    # Estimar SNR por portadora OFDM:\n",
    "    pot_i = 10**(-1) # Potencia de cada sub portadora en transmisión (W)\n",
    "    N_0 = abs(10**(-16)*np.random.randn()) # Nivel de ruido \n",
    "    B = parameters['OFDM']['bandwidth'] * (10**9) # Ancho de banda del canal OFDM\n",
    "\n",
    "    # SNR portadora:\n",
    "    pot_senal = 0\n",
    "    for subp in range(0,512):\n",
    "        pot_senal += pot_i * (info[subp]**2)\n",
    "    SNR[ue] = pot_senal / (N_0 * B)\n",
    "\n",
    "plt.show()\n",
    "np.save(\"SNRs\", SNR)\n",
    "print(f\"SNR en dBm:\\n{10*np.log(SNR*1000)}\")\n"
   ]
  },
  {
   "cell_type": "code",
   "execution_count": 4,
   "id": "c16d9642",
   "metadata": {},
   "outputs": [
    {
     "name": "stdout",
     "output_type": "stream",
     "text": [
      "[[0.31045405]\n",
      " [0.35992469]\n",
      " [0.96031763]\n",
      " [0.19729919]\n",
      " [0.1919732 ]\n",
      " [0.29894679]\n",
      " [0.12062182]\n",
      " [0.06486162]\n",
      " [0.10594603]\n",
      " [2.57008532]]\n"
     ]
    }
   ],
   "source": [
    "# Cargamos el archivo guardado anteriormente:\n",
    "\n",
    "SNRs_abierto = np.load(\"SNRs.npy\")\n",
    "print(SNRs_abierto)"
   ]
  },
  {
   "cell_type": "code",
   "execution_count": 5,
   "id": "93281259",
   "metadata": {},
   "outputs": [
    {
     "name": "stdout",
     "output_type": "stream",
     "text": [
      "Path loss en dbm:\n",
      "[82.95559692 81.78170013 82.81770325 83.80059814 84.01200104 86.85749817\n",
      " 84.8809967  88.56020355 89.29299927 91.85379791]\n"
     ]
    }
   ],
   "source": [
    "# The combined path-loss of the channel between the RX and TX in dBm.\n",
    "pathloss = [dataset[bs]['user']['pathloss'][ue] for ue in range(0,10)]\n",
    "print(f\"Path loss en dbm:\\n{np.array(pathloss)}\")\n",
    "\n",
    "# Aclaración: no estamos usando el pathloss para el modelado del canal."
   ]
  },
  {
   "cell_type": "code",
   "execution_count": 6,
   "id": "abb4b5e5",
   "metadata": {},
   "outputs": [
    {
     "name": "stdout",
     "output_type": "stream",
     "text": [
      "{   'DoA_phi': array([-137.962, -136.819, -137.962,  106.579, -136.819], dtype=float32),\n",
      "    'DoA_theta': array([ 82.9999,  83.128 , 110.222 ,  81.9449, 109.878 ], dtype=float32),\n",
      "    'DoD_phi': array([ 137.502, -136.359,  137.502,  106.119, -136.359], dtype=float32),\n",
      "    'DoD_theta': array([ 97.0001,  96.872 , 110.222 ,  81.9449, 109.878 ], dtype=float32),\n",
      "    'ToA': array([2.73790e-08, 2.78869e-08, 2.89600e-08, 7.14374e-08, 2.94406e-08],\n",
      "      dtype=float32),\n",
      "    'num_paths': 5,\n",
      "    'phase': array([-79.9027 ,   7.03146, -39.7233 , 150.401  , -38.3708 ],\n",
      "      dtype=float32),\n",
      "    'power': array([7.5533650e-09, 2.0994724e-09, 4.1816750e-10, 4.5404586e-11,\n",
      "       4.2364282e-11], dtype=float32)}\n"
     ]
    }
   ],
   "source": [
    "# Información de los diferentes caminos entre BS y UE\n",
    "pp.pprint(dataset[0]['user']['paths'][0])"
   ]
  }
 ],
 "metadata": {
  "kernelspec": {
   "display_name": "Python 3 (ipykernel)",
   "language": "python",
   "name": "python3"
  },
  "language_info": {
   "codemirror_mode": {
    "name": "ipython",
    "version": 3
   },
   "file_extension": ".py",
   "mimetype": "text/x-python",
   "name": "python",
   "nbconvert_exporter": "python",
   "pygments_lexer": "ipython3",
   "version": "3.9.12"
  }
 },
 "nbformat": 4,
 "nbformat_minor": 5
}
